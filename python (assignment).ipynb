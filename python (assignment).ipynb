{
 "cells": [
  {
   "cell_type": "markdown",
   "id": "677104ff",
   "metadata": {},
   "source": [
    "1.Write a program to print yourself introduction?\n"
   ]
  },
  {
   "cell_type": "code",
   "execution_count": 1,
   "id": "3dd5ce52",
   "metadata": {},
   "outputs": [],
   "source": [
    "x=\"I am chinmayee nayak.I am from Odisha.I completed my graduation lebel in the year of 2019 and completed my +2 lebel in the year of 2016\""
   ]
  },
  {
   "cell_type": "code",
   "execution_count": 2,
   "id": "16d02911",
   "metadata": {},
   "outputs": [
    {
     "name": "stdout",
     "output_type": "stream",
     "text": [
      "I am chinmayee nayak.I am from Odisha.I completed my graduation lebel in the year of 2019 and completed my +2 lebel in the year of 2016\n"
     ]
    }
   ],
   "source": [
    "print(x)"
   ]
  },
  {
   "cell_type": "markdown",
   "id": "db5174ba",
   "metadata": {},
   "source": [
    "2.Write a program to perform the following operations:"
   ]
  },
  {
   "cell_type": "markdown",
   "id": "bf67655e",
   "metadata": {},
   "source": [
    "* Addition"
   ]
  },
  {
   "cell_type": "code",
   "execution_count": 34,
   "id": "de919454",
   "metadata": {},
   "outputs": [
    {
     "name": "stdout",
     "output_type": "stream",
     "text": [
      "enter the number 34\n",
      "enter the number 54\n",
      "sum of two number = 88\n"
     ]
    }
   ],
   "source": [
    "x=int(input('enter the number '))\n",
    "y=int(input('enter the number '))\n",
    "sum=x+y\n",
    "print('sum of two number','=',sum)\n",
    "      "
   ]
  },
  {
   "cell_type": "markdown",
   "id": "d59c397b",
   "metadata": {},
   "source": [
    "*Subtraction"
   ]
  },
  {
   "cell_type": "code",
   "execution_count": 33,
   "id": "dc7ad25a",
   "metadata": {},
   "outputs": [
    {
     "name": "stdout",
     "output_type": "stream",
     "text": [
      "enter the number 2245\n",
      "enter the number 45\n",
      "substraction of two number = 2200\n"
     ]
    }
   ],
   "source": [
    "x=int(input('enter the number '))\n",
    "y=int(input('enter the number '))\n",
    "sub=x-y\n",
    "print('substraction of two number','=',sub)"
   ]
  },
  {
   "cell_type": "markdown",
   "id": "78232b62",
   "metadata": {},
   "source": [
    "* Multiplication"
   ]
  },
  {
   "cell_type": "code",
   "execution_count": 32,
   "id": "e9bdf51a",
   "metadata": {},
   "outputs": [
    {
     "name": "stdout",
     "output_type": "stream",
     "text": [
      "enter the number 23\n",
      "enter the number 6\n",
      "multiplication of two number = 138\n"
     ]
    }
   ],
   "source": [
    "x=int(input('enter the number '))\n",
    "y=int(input('enter the number '))\n",
    "multiply=x*y\n",
    "print('multiplication of two number','=',multiply)"
   ]
  },
  {
   "cell_type": "markdown",
   "id": "8dfd940a",
   "metadata": {},
   "source": [
    "*Division"
   ]
  },
  {
   "cell_type": "code",
   "execution_count": 31,
   "id": "fb76d966",
   "metadata": {},
   "outputs": [
    {
     "name": "stdout",
     "output_type": "stream",
     "text": [
      "enter the number 45\n",
      "enter the number 2\n",
      "division of two number = 22.5\n"
     ]
    }
   ],
   "source": [
    "x=int(input('enter the number '))\n",
    "y=int(input('enter the number '))\n",
    "div=x/y\n",
    "print('division of two number','=',div)"
   ]
  },
  {
   "cell_type": "markdown",
   "id": "e1823418",
   "metadata": {},
   "source": [
    "* Modulus"
   ]
  },
  {
   "cell_type": "code",
   "execution_count": 30,
   "id": "518c3780",
   "metadata": {},
   "outputs": [
    {
     "name": "stdout",
     "output_type": "stream",
     "text": [
      "enter the number 23\n",
      "enter the number 12\n",
      "give reminder = 11\n"
     ]
    }
   ],
   "source": [
    "x=int(input('enter the number '))\n",
    "y=int(input('enter the number '))\n",
    "modulus=x%y\n",
    "print('give reminder','=',modulus)"
   ]
  },
  {
   "cell_type": "markdown",
   "id": "e74a04fd",
   "metadata": {},
   "source": [
    "* Exponent"
   ]
  },
  {
   "cell_type": "code",
   "execution_count": 9,
   "id": "8f35e3d4",
   "metadata": {},
   "outputs": [
    {
     "name": "stdout",
     "output_type": "stream",
     "text": [
      "power 8\n"
     ]
    }
   ],
   "source": [
    "a=2\n",
    "b=3\n",
    "c=a**b\n",
    "print(\"power\",c)"
   ]
  },
  {
   "cell_type": "markdown",
   "id": "15b50c1d",
   "metadata": {},
   "source": [
    "3.Write a program to swap two numbers."
   ]
  },
  {
   "cell_type": "code",
   "execution_count": 29,
   "id": "20132429",
   "metadata": {},
   "outputs": [
    {
     "name": "stdout",
     "output_type": "stream",
     "text": [
      "enter the number 45\n",
      "enter the number 32\n",
      "x is = 45\n",
      "y is = 32\n",
      "x is = 32\n",
      "y is = 45\n"
     ]
    }
   ],
   "source": [
    "x=int(input('enter the number '))\n",
    "y=int(input('enter the number '))\n",
    "#print x and y before swap\n",
    "print(\"x is\",\"=\",x)\n",
    "print(\"y is\",\"=\",y)\n",
    "temp=x\n",
    "x=y\n",
    "y=temp\n",
    "#print x and y after swap\n",
    "print(\"x is\",\"=\",x)\n",
    "print(\"y is\",\"=\",y)"
   ]
  },
  {
   "cell_type": "markdown",
   "id": "c16f1963",
   "metadata": {},
   "source": [
    "4. Write a program to swap two number without using third variable?"
   ]
  },
  {
   "cell_type": "code",
   "execution_count": 28,
   "id": "3eb61fba",
   "metadata": {},
   "outputs": [
    {
     "name": "stdout",
     "output_type": "stream",
     "text": [
      "enter the number 23\n",
      "enter the number 12\n",
      "x is = 23\n",
      "y is = 12\n",
      "x is = 12\n",
      "y is = 23\n"
     ]
    }
   ],
   "source": [
    "x=int(input('enter the number '))\n",
    "y=int(input('enter the number '))\n",
    "#print x and y before swap\n",
    "print(\"x is\",\"=\",x)\n",
    "print(\"y is\",\"=\",y)\n",
    "x=x+y\n",
    "y=x-y\n",
    "x=x-y\n",
    "#print x and y after swap\n",
    "print(\"x is\",\"=\",x)\n",
    "print(\"y is\",\"=\",y)"
   ]
  },
  {
   "cell_type": "markdown",
   "id": "0ce078af",
   "metadata": {},
   "source": [
    "5. write a program to find average of five number by user input?"
   ]
  },
  {
   "cell_type": "code",
   "execution_count": 27,
   "id": "36032360",
   "metadata": {},
   "outputs": [
    {
     "name": "stdout",
     "output_type": "stream",
     "text": [
      "enter the number 12\n",
      "enter the number 23\n",
      "enter the number 34\n",
      "enter the number 43\n",
      "enter the number 54\n",
      "33.2\n"
     ]
    }
   ],
   "source": [
    "a=int(input('enter the number '))\n",
    "b=int(input('enter the number '))\n",
    "c=int(input('enter the number '))\n",
    "d=int(input('enter the number '))\n",
    "e=int(input('enter the number '))\n",
    "sum=a+b+c+d+e\n",
    "average=sum/5\n",
    "print(average)"
   ]
  },
  {
   "cell_type": "markdown",
   "id": "95278038",
   "metadata": {},
   "source": [
    "6. Write a program to compute simple interest?"
   ]
  },
  {
   "cell_type": "code",
   "execution_count": 35,
   "id": "d2f5de8a",
   "metadata": {},
   "outputs": [
    {
     "name": "stdout",
     "output_type": "stream",
     "text": [
      "enter the principal  3000\n",
      "enter the rate of interest 23\n",
      "enter the time6\n",
      "simple interest is = 4140.0\n"
     ]
    }
   ],
   "source": [
    "principal=int(input('enter the principal  '))\n",
    "rate=int(input('enter the rate of interest '))\n",
    "time=int(input('enter the time'))\n",
    "si=(principal*rate*time)/100\n",
    "print('simple interest is','=',si)"
   ]
  },
  {
   "cell_type": "markdown",
   "id": "993992f1",
   "metadata": {},
   "source": [
    "7. Write a program to calculate the discriminant of a quadratic equation?"
   ]
  },
  {
   "cell_type": "code",
   "execution_count": 36,
   "id": "fc7e171a",
   "metadata": {},
   "outputs": [
    {
     "name": "stdout",
     "output_type": "stream",
     "text": [
      "enter the number 32\n",
      "enter the number 12\n",
      "enter the number 10\n",
      "the value of discriminant is -1136\n"
     ]
    }
   ],
   "source": [
    "a=int(input('enter the number '))\n",
    "b=int(input('enter the number '))\n",
    "c=int(input('enter the number '))\n",
    "D=(b**2)-(4*a*c) #discriminant\n",
    "print('the value of discriminant is',D)\n"
   ]
  },
  {
   "cell_type": "markdown",
   "id": "4c8017f1",
   "metadata": {},
   "source": [
    "8. write a program to calculate the area of the followings:"
   ]
  },
  {
   "cell_type": "markdown",
   "id": "88172dca",
   "metadata": {},
   "source": [
    "* Rectangle"
   ]
  },
  {
   "cell_type": "code",
   "execution_count": 4,
   "id": "66213b60",
   "metadata": {},
   "outputs": [
    {
     "name": "stdout",
     "output_type": "stream",
     "text": [
      "enter the width  5\n",
      "enter the height  10\n",
      "Area of rectangle = 50\n"
     ]
    }
   ],
   "source": [
    "w=int(input('enter the width  '))\n",
    "h=int(input('enter the height  '))\n",
    "area=w*h\n",
    "print(\"Area of rectangle\",\"=\",area)"
   ]
  },
  {
   "cell_type": "markdown",
   "id": "f7dfd28f",
   "metadata": {},
   "source": [
    "* square"
   ]
  },
  {
   "cell_type": "code",
   "execution_count": 5,
   "id": "3c7a38ec",
   "metadata": {},
   "outputs": [
    {
     "name": "stdout",
     "output_type": "stream",
     "text": [
      "enter the value of a  4\n",
      "Area of square = 16\n"
     ]
    }
   ],
   "source": [
    "a=int(input('enter the side  '))\n",
    "area=a*a\n",
    "print(\"Area of square\",\"=\",area)"
   ]
  },
  {
   "cell_type": "markdown",
   "id": "c0c1ed93",
   "metadata": {},
   "source": [
    "* Triangle"
   ]
  },
  {
   "cell_type": "code",
   "execution_count": 7,
   "id": "84b452b8",
   "metadata": {},
   "outputs": [
    {
     "name": "stdout",
     "output_type": "stream",
     "text": [
      "enter the base  5\n",
      "enter the height  10\n",
      "Area of square = 25.0\n"
     ]
    }
   ],
   "source": [
    "b=int(input('enter the base  '))\n",
    "h=int(input('enter the height  '))\n",
    "area=1/2*b*h\n",
    "print(\"Area of square\",\"=\",area)"
   ]
  },
  {
   "cell_type": "markdown",
   "id": "f7270e2e",
   "metadata": {},
   "source": [
    "* circle"
   ]
  },
  {
   "cell_type": "code",
   "execution_count": 8,
   "id": "bf112657",
   "metadata": {},
   "outputs": [
    {
     "name": "stdout",
     "output_type": "stream",
     "text": [
      "enter the radius  5\n",
      "area of circle  =  78.5\n"
     ]
    }
   ],
   "source": [
    "pi=3.14\n",
    "r=int(input('enter the radius  '))\n",
    "area=pi*r*r\n",
    "print('area of circle  = ',area)"
   ]
  },
  {
   "cell_type": "markdown",
   "id": "6d87a7da",
   "metadata": {},
   "source": [
    "9. write a program to calculate net salary of an employee whose basic salary is entered by the user,DA is 5% of basic salary,HRA is 7% of basic salary and PF is 3% of basic salary?"
   ]
  },
  {
   "cell_type": "code",
   "execution_count": 21,
   "id": "a77f05e5",
   "metadata": {},
   "outputs": [
    {
     "name": "stdout",
     "output_type": "stream",
     "text": [
      "enter the basic salary  2600\n",
      "DA is = 130.0\n",
      "HRA is = 182.00000000000003\n",
      "PF  is = 78.0\n",
      "Net salary is = 2210.0\n"
     ]
    }
   ],
   "source": [
    "B=float(input('enter the basic salary  '))\n",
    "DA=B*0.05\n",
    "print('DA is =',DA)\n",
    "HRA=B*0.07\n",
    "print('HRA is =',HRA)\n",
    "PF=B*0.03\n",
    "print('PF  is =',PF)\n",
    "x=DA+HRA+PF\n",
    "NS=B-x\n",
    "print('Net salary is =',NS)"
   ]
  },
  {
   "cell_type": "markdown",
   "id": "f7c7e4b7",
   "metadata": {},
   "source": [
    "10. Write a program to calculate power of a number?"
   ]
  },
  {
   "cell_type": "code",
   "execution_count": 24,
   "id": "e16807e1",
   "metadata": {},
   "outputs": [
    {
     "name": "stdout",
     "output_type": "stream",
     "text": [
      "power 8\n"
     ]
    }
   ],
   "source": [
    "a=2\n",
    "b=3\n",
    "c=a**b\n",
    "print(\"power\",c)"
   ]
  },
  {
   "cell_type": "code",
   "execution_count": 26,
   "id": "4530883d",
   "metadata": {},
   "outputs": [
    {
     "name": "stdout",
     "output_type": "stream",
     "text": [
      "power of a 8\n"
     ]
    }
   ],
   "source": [
    "a=pow(2,3)\n",
    "print('power of a',a)"
   ]
  },
  {
   "cell_type": "markdown",
   "id": "7dd6d60a",
   "metadata": {},
   "source": [
    "11.Write a program to get the python version you are using?"
   ]
  },
  {
   "cell_type": "code",
   "execution_count": 27,
   "id": "d78c50dc",
   "metadata": {},
   "outputs": [
    {
     "name": "stdout",
     "output_type": "stream",
     "text": [
      "3.9.13\n"
     ]
    }
   ],
   "source": [
    "from platform import python_version\n",
    "print(python_version())"
   ]
  },
  {
   "cell_type": "code",
   "execution_count": null,
   "id": "c65d775f",
   "metadata": {},
   "outputs": [],
   "source": []
  }
 ],
 "metadata": {
  "kernelspec": {
   "display_name": "Python 3 (ipykernel)",
   "language": "python",
   "name": "python3"
  },
  "language_info": {
   "codemirror_mode": {
    "name": "ipython",
    "version": 3
   },
   "file_extension": ".py",
   "mimetype": "text/x-python",
   "name": "python",
   "nbconvert_exporter": "python",
   "pygments_lexer": "ipython3",
   "version": "3.9.13"
  }
 },
 "nbformat": 4,
 "nbformat_minor": 5
}
