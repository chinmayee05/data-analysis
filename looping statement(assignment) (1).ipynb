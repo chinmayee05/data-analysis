{
 "cells": [
  {
   "cell_type": "markdown",
   "id": "bc857896",
   "metadata": {},
   "source": [
    "1.Write a program to print \"Hello Python\" ten times?"
   ]
  },
  {
   "cell_type": "code",
   "execution_count": 1,
   "id": "a9d32e58",
   "metadata": {},
   "outputs": [
    {
     "name": "stdout",
     "output_type": "stream",
     "text": [
      "Hello Python\n",
      "Hello Python\n",
      "Hello Python\n",
      "Hello Python\n",
      "Hello Python\n",
      "Hello Python\n",
      "Hello Python\n",
      "Hello Python\n",
      "Hello Python\n",
      "Hello Python\n"
     ]
    }
   ],
   "source": [
    "i=1 \n",
    "while i<=10:\n",
    "    print(\"Hello Python\")\n",
    "    i=i+1"
   ]
  },
  {
   "cell_type": "markdown",
   "id": "60215e22",
   "metadata": {},
   "source": [
    "2.Write a program to print number from 1 to 1o?"
   ]
  },
  {
   "cell_type": "code",
   "execution_count": 2,
   "id": "f2f5e347",
   "metadata": {},
   "outputs": [
    {
     "name": "stdout",
     "output_type": "stream",
     "text": [
      "1\n",
      "2\n",
      "3\n",
      "4\n",
      "5\n",
      "6\n",
      "7\n",
      "8\n",
      "9\n",
      "10\n"
     ]
    }
   ],
   "source": [
    "i=1 \n",
    "while i<=10:\n",
    "    print(i)\n",
    "    i=i+1"
   ]
  },
  {
   "cell_type": "markdown",
   "id": "09a951a2",
   "metadata": {},
   "source": [
    "3.Write a program to print sum of first ten number?"
   ]
  },
  {
   "cell_type": "code",
   "execution_count": 11,
   "id": "a46b55fa",
   "metadata": {},
   "outputs": [
    {
     "name": "stdout",
     "output_type": "stream",
     "text": [
      "55\n"
     ]
    }
   ],
   "source": [
    "i=1\n",
    "sum=0\n",
    "while i<=10:\n",
    "    sum=sum+i\n",
    "    i=i+1\n",
    "print(sum)"
   ]
  },
  {
   "cell_type": "markdown",
   "id": "dda2c7a7",
   "metadata": {},
   "source": [
    "4.Write a program to print n number entered by user?"
   ]
  },
  {
   "cell_type": "code",
   "execution_count": 12,
   "id": "36e12c19",
   "metadata": {},
   "outputs": [
    {
     "name": "stdout",
     "output_type": "stream",
     "text": [
      "enter a number15\n",
      "1\n",
      "2\n",
      "3\n",
      "4\n",
      "5\n",
      "6\n",
      "7\n",
      "8\n",
      "9\n",
      "10\n",
      "11\n",
      "12\n",
      "13\n",
      "14\n",
      "15\n"
     ]
    }
   ],
   "source": [
    "n=int(input(\"enter a number\"))\n",
    "i=1 \n",
    "while i<=n:\n",
    "    print(i)\n",
    "    i=i+1"
   ]
  },
  {
   "cell_type": "markdown",
   "id": "2ce1ace9",
   "metadata": {},
   "source": [
    "5.Write a program to print sum of n number?"
   ]
  },
  {
   "cell_type": "code",
   "execution_count": 5,
   "id": "16ec2863",
   "metadata": {},
   "outputs": [
    {
     "name": "stdout",
     "output_type": "stream",
     "text": [
      "Enter the value of n: 12\n",
      "The sum of  12 numbers is: 78\n"
     ]
    }
   ],
   "source": [
    "n = int(input(\"Enter the value of n: \"))\n",
    "sum = 0\n",
    "i = 1\n",
    "while i <= n:\n",
    "    sum += i\n",
    "    i += 1\n",
    "print(\"The sum of \", n, \"numbers is:\", sum)"
   ]
  },
  {
   "cell_type": "markdown",
   "id": "c1d12003",
   "metadata": {},
   "source": [
    "6.Write a program to print table of a number?"
   ]
  },
  {
   "cell_type": "code",
   "execution_count": 6,
   "id": "916498ea",
   "metadata": {},
   "outputs": [
    {
     "name": "stdout",
     "output_type": "stream",
     "text": [
      "enter a number6\n",
      "6 * 1 = 6\n",
      "6 * 2 = 12\n",
      "6 * 3 = 18\n",
      "6 * 4 = 24\n",
      "6 * 5 = 30\n",
      "6 * 6 = 36\n",
      "6 * 7 = 42\n",
      "6 * 8 = 48\n",
      "6 * 9 = 54\n",
      "6 * 10 = 60\n"
     ]
    }
   ],
   "source": [
    "i=1\n",
    "num=int(input(\"enter a number\"))\n",
    "while i<=10:\n",
    "    print(num,\"*\",i,\"=\",i*num)\n",
    "    i+=1"
   ]
  },
  {
   "cell_type": "markdown",
   "id": "9b5e0ed3",
   "metadata": {},
   "source": [
    "7.Write a program to calculate the factorial of a number?"
   ]
  },
  {
   "cell_type": "code",
   "execution_count": 7,
   "id": "d4b8c332",
   "metadata": {},
   "outputs": [
    {
     "name": "stdout",
     "output_type": "stream",
     "text": [
      "Enter a number: 6\n",
      "The factorial of 6 is: 720\n"
     ]
    }
   ],
   "source": [
    "n = int(input(\"Enter a number: \"))\n",
    "fact = 1\n",
    "i = 1\n",
    "while i <= n:\n",
    "    fact *= i\n",
    "    i += 1\n",
    "print(\"The factorial of\", n, \"is:\", fact)"
   ]
  },
  {
   "cell_type": "markdown",
   "id": "4127b140",
   "metadata": {},
   "source": [
    "8.Write a program to print even number between 1 to 100?"
   ]
  },
  {
   "cell_type": "code",
   "execution_count": 8,
   "id": "4effa860",
   "metadata": {},
   "outputs": [
    {
     "name": "stdout",
     "output_type": "stream",
     "text": [
      "2\n",
      "4\n",
      "6\n",
      "8\n",
      "10\n",
      "12\n",
      "14\n",
      "16\n",
      "18\n",
      "20\n",
      "22\n",
      "24\n",
      "26\n",
      "28\n",
      "30\n",
      "32\n",
      "34\n",
      "36\n",
      "38\n",
      "40\n",
      "42\n",
      "44\n",
      "46\n",
      "48\n",
      "50\n",
      "52\n",
      "54\n",
      "56\n",
      "58\n",
      "60\n",
      "62\n",
      "64\n",
      "66\n",
      "68\n",
      "70\n",
      "72\n",
      "74\n",
      "76\n",
      "78\n",
      "80\n",
      "82\n",
      "84\n",
      "86\n",
      "88\n",
      "90\n",
      "92\n",
      "94\n",
      "96\n",
      "98\n",
      "100\n"
     ]
    }
   ],
   "source": [
    "i=1\n",
    "while i<=100:\n",
    "    if i%2==0:\n",
    "        print(i)\n",
    "    i+=1"
   ]
  },
  {
   "cell_type": "markdown",
   "id": "fc92ccf6",
   "metadata": {},
   "source": [
    "9.Write a program to print odd number between 1 to 100"
   ]
  },
  {
   "cell_type": "code",
   "execution_count": 9,
   "id": "1f728757",
   "metadata": {},
   "outputs": [
    {
     "name": "stdout",
     "output_type": "stream",
     "text": [
      "1\n",
      "3\n",
      "5\n",
      "7\n",
      "9\n",
      "11\n",
      "13\n",
      "15\n",
      "17\n",
      "19\n",
      "21\n",
      "23\n",
      "25\n",
      "27\n",
      "29\n",
      "31\n",
      "33\n",
      "35\n",
      "37\n",
      "39\n",
      "41\n",
      "43\n",
      "45\n",
      "47\n",
      "49\n",
      "51\n",
      "53\n",
      "55\n",
      "57\n",
      "59\n",
      "61\n",
      "63\n",
      "65\n",
      "67\n",
      "69\n",
      "71\n",
      "73\n",
      "75\n",
      "77\n",
      "79\n",
      "81\n",
      "83\n",
      "85\n",
      "87\n",
      "89\n",
      "91\n",
      "93\n",
      "95\n",
      "97\n",
      "99\n"
     ]
    }
   ],
   "source": [
    "i=1\n",
    "while i<=100:\n",
    "    if i%2!=0:\n",
    "        print(i)\n",
    "    i+=1"
   ]
  },
  {
   "cell_type": "markdown",
   "id": "bcdd63c1",
   "metadata": {},
   "source": [
    "10.write a program to check whether a given number is palindrom or not?"
   ]
  },
  {
   "cell_type": "code",
   "execution_count": 19,
   "id": "9db1bbb1",
   "metadata": {},
   "outputs": [
    {
     "name": "stdout",
     "output_type": "stream",
     "text": [
      "enter a number: 45\n",
      "45 is not palindrom\n"
     ]
    }
   ],
   "source": [
    "num=int(input(\"enter a number: \"))\n",
    "temp=num\n",
    "rev=0\n",
    "while temp!=0:\n",
    "    digit=temp%10\n",
    "    rev=(rev* 10)+digit\n",
    "    temp//=10\n",
    "if num==rev:\n",
    "    print(num,\"is palindrom\")\n",
    "else:\n",
    "    print(num, \"is not palindrom\")"
   ]
  },
  {
   "cell_type": "markdown",
   "id": "a8cdd57c",
   "metadata": {},
   "source": [
    "11.write a program to find factors of a number?"
   ]
  },
  {
   "cell_type": "code",
   "execution_count": 8,
   "id": "cea3c723",
   "metadata": {},
   "outputs": [
    {
     "name": "stdout",
     "output_type": "stream",
     "text": [
      "enter a number: 4\n",
      "1\n",
      "2\n",
      "4\n"
     ]
    }
   ],
   "source": [
    "num=int(input(\"enter a number: \"))\n",
    "i=1\n",
    "while i<=num:\n",
    "    if num%i == 0:\n",
    "        print(i)\n",
    "    i+=1"
   ]
  },
  {
   "cell_type": "markdown",
   "id": "ef932de9",
   "metadata": {},
   "source": [
    "12.write a program to print the reverse number?"
   ]
  },
  {
   "cell_type": "code",
   "execution_count": 9,
   "id": "194e36d5",
   "metadata": {},
   "outputs": [
    {
     "name": "stdout",
     "output_type": "stream",
     "text": [
      "enter a number34\n",
      "reverse number 43\n"
     ]
    }
   ],
   "source": [
    "num=int(input(\"enter a number\"))\n",
    "rev_num=0\n",
    "while num>0:\n",
    "    digit=num%10\n",
    "    rev_num=(rev_num*10)+digit\n",
    "    num=num//10\n",
    "print(\"reverse number\",rev_num)"
   ]
  },
  {
   "cell_type": "markdown",
   "id": "b1704f16",
   "metadata": {},
   "source": [
    "13.write a program to print the sum of a reverse number?"
   ]
  },
  {
   "cell_type": "code",
   "execution_count": 11,
   "id": "08ccb10a",
   "metadata": {},
   "outputs": [
    {
     "name": "stdout",
     "output_type": "stream",
     "text": [
      "enter a number34\n",
      "reverse of number 43\n",
      "sum of number 7\n"
     ]
    }
   ],
   "source": [
    "num=int(input(\"enter a number\"))\n",
    "rev_num=0\n",
    "while num>0:\n",
    "    digit=num%10\n",
    "    rev_num=(rev_num*10)+digit\n",
    "    num=num//10\n",
    "print(\"reverse of number\",rev_num)\n",
    "total=0\n",
    "while rev_num>0:\n",
    "    digit=rev_num%10\n",
    "    total=total+digit\n",
    "    rev_num=rev_num//10\n",
    "print(\"sum of number\",total)"
   ]
  },
  {
   "cell_type": "markdown",
   "id": "9f30a50e",
   "metadata": {},
   "source": [
    "14.Write a program to check whether a given number is prime or not?"
   ]
  },
  {
   "cell_type": "code",
   "execution_count": 21,
   "id": "6402feeb",
   "metadata": {},
   "outputs": [
    {
     "name": "stdout",
     "output_type": "stream",
     "text": [
      "enter a number: 56\n",
      "56 is not a prime number\n"
     ]
    }
   ],
   "source": [
    "num=int(input(\"enter a number: \"))\n",
    "i=2\n",
    "is_prime=True\n",
    "while i<num:\n",
    "    if num%1 == 0:\n",
    "        is_prime = False\n",
    "        break\n",
    "    i += 1\n",
    "if is_prime:\n",
    "    print(num,\"is a prime number\")\n",
    "else:\n",
    "    print(num,\"is not a prime number\")"
   ]
  },
  {
   "cell_type": "markdown",
   "id": "fcd434b6",
   "metadata": {},
   "source": [
    "15.Write a program to print prime number between 1 to 100?"
   ]
  },
  {
   "cell_type": "code",
   "execution_count": 1,
   "id": "00ed3f50",
   "metadata": {},
   "outputs": [
    {
     "name": "stdout",
     "output_type": "stream",
     "text": [
      "2\n",
      "3\n",
      "5\n",
      "7\n",
      "11\n",
      "13\n",
      "17\n",
      "19\n",
      "23\n",
      "29\n",
      "31\n",
      "37\n",
      "41\n",
      "43\n",
      "47\n",
      "53\n",
      "59\n",
      "61\n",
      "67\n",
      "71\n",
      "73\n",
      "79\n",
      "83\n",
      "89\n",
      "97\n"
     ]
    }
   ],
   "source": [
    "def is_prime(n):\n",
    "    if n <= 1:\n",
    "        return False\n",
    "    for i in range(2, n):\n",
    "        if n % i == 0:\n",
    "            return False\n",
    "    return True\n",
    "for num in range(1, 101):\n",
    "    if is_prime(num):\n",
    "        print(num)"
   ]
  },
  {
   "cell_type": "markdown",
   "id": "1c8d1472",
   "metadata": {},
   "source": [
    "16.Write a program to print cube of all numbers from 1 to given number?"
   ]
  },
  {
   "cell_type": "code",
   "execution_count": 2,
   "id": "954c9eae",
   "metadata": {},
   "outputs": [
    {
     "name": "stdout",
     "output_type": "stream",
     "text": [
      "Enter a number 4\n",
      "1\n",
      "8\n",
      "27\n",
      "64\n"
     ]
    }
   ],
   "source": [
    "x=int(input(\"Enter a number \"))\n",
    "num= 1\n",
    "while num<=x:\n",
    "    print(num**3)\n",
    "    num+= 1"
   ]
  },
  {
   "cell_type": "markdown",
   "id": "d8e2cd97",
   "metadata": {},
   "source": [
    "17.Write a program to print fallowing number partten:"
   ]
  },
  {
   "cell_type": "markdown",
   "id": "592a6067",
   "metadata": {},
   "source": [
    "a)1\n",
    "  12\n",
    "  123\n",
    "  1234\n",
    "  12345"
   ]
  },
  {
   "cell_type": "code",
   "execution_count": 3,
   "id": "cc5e20ec",
   "metadata": {},
   "outputs": [
    {
     "name": "stdout",
     "output_type": "stream",
     "text": [
      "1\n",
      "12\n",
      "123\n",
      "1234\n",
      "12345\n"
     ]
    }
   ],
   "source": [
    "for i in range(1,6): \n",
    "    for j in range(1,i+1):\n",
    "        print(j,end=\"\")\n",
    "    print()"
   ]
  },
  {
   "cell_type": "markdown",
   "id": "277d103b",
   "metadata": {},
   "source": [
    "b)1\n",
    "  22\n",
    "  333\n",
    "  4444\n",
    "  55555"
   ]
  },
  {
   "cell_type": "code",
   "execution_count": 4,
   "id": "764a3261",
   "metadata": {},
   "outputs": [
    {
     "name": "stdout",
     "output_type": "stream",
     "text": [
      "1\n",
      "22\n",
      "333\n",
      "4444\n",
      "55555\n"
     ]
    }
   ],
   "source": [
    "for i in range(1,6): \n",
    "    for j in range(1,i+1):\n",
    "        print(i,end=\"\")\n",
    "    print()"
   ]
  },
  {
   "cell_type": "markdown",
   "id": "498eeab5",
   "metadata": {},
   "source": [
    "c)54321\n",
    "  5432\n",
    "  543\n",
    "  54\n",
    "  5"
   ]
  },
  {
   "cell_type": "code",
   "execution_count": 5,
   "id": "fe8af60d",
   "metadata": {},
   "outputs": [
    {
     "name": "stdout",
     "output_type": "stream",
     "text": [
      "54321\n",
      "4321\n",
      "321\n",
      "21\n",
      "1\n"
     ]
    }
   ],
   "source": [
    "for i in range(5,0,-1):\n",
    "    for j in range(i,0,-1):\n",
    "        print(j,end='')\n",
    "    print()"
   ]
  },
  {
   "cell_type": "markdown",
   "id": "062ad2c2",
   "metadata": {},
   "source": [
    "d)12345\n",
    "  1234\n",
    "  123\n",
    "  1"
   ]
  },
  {
   "cell_type": "code",
   "execution_count": 6,
   "id": "18d6fd3b",
   "metadata": {},
   "outputs": [
    {
     "name": "stdout",
     "output_type": "stream",
     "text": [
      "12345\n",
      "1234\n",
      "123\n",
      "12\n",
      "1\n",
      "1\n"
     ]
    }
   ],
   "source": [
    "for i in range(5,0,-1):\n",
    "    for j in range(1,i+1):\n",
    "        print(j,end='')\n",
    "    print()\n",
    "print(1)"
   ]
  },
  {
   "cell_type": "markdown",
   "id": "8fc181db",
   "metadata": {},
   "source": [
    "e)54321\n",
    "  4321\n",
    "  321\n",
    "  21\n",
    "  1"
   ]
  },
  {
   "cell_type": "code",
   "execution_count": 7,
   "id": "6e9ce2de",
   "metadata": {},
   "outputs": [
    {
     "name": "stdout",
     "output_type": "stream",
     "text": [
      "54321\n",
      "4321\n",
      "321\n",
      "21\n",
      "1\n",
      "1\n"
     ]
    }
   ],
   "source": [
    "for i in range(5, 0, -1):\n",
    "    for j in range(i, 0, -1):\n",
    "        print(j, end='')\n",
    "    print()\n",
    "print(1)"
   ]
  },
  {
   "cell_type": "code",
   "execution_count": 2,
   "id": "be600155",
   "metadata": {},
   "outputs": [
    {
     "name": "stdout",
     "output_type": "stream",
     "text": [
      "A\n",
      "AB\n",
      "ABC\n",
      "ABCD\n",
      "ABCDE\n"
     ]
    }
   ],
   "source": [
    "for i in range(5): \n",
    "    for j in range(i+1): \n",
    "        print(chr(65+j),end=\"\")\n",
    "    print()"
   ]
  },
  {
   "cell_type": "code",
   "execution_count": 4,
   "id": "bd7636b9",
   "metadata": {},
   "outputs": [
    {
     "name": "stdout",
     "output_type": "stream",
     "text": [
      "A\n",
      "BB\n",
      "CCC\n",
      "DDDD\n",
      "EEEEE\n"
     ]
    }
   ],
   "source": [
    "for i in range(5): \n",
    "    for j in range(i+1): \n",
    "        print(chr(65+i),end=\"\")\n",
    "    print()"
   ]
  },
  {
   "cell_type": "markdown",
   "id": "54c5d9fa",
   "metadata": {},
   "source": [
    "18.Write a program to print the fallowing number partten using loop."
   ]
  },
  {
   "cell_type": "markdown",
   "id": "0c5609cc",
   "metadata": {},
   "source": [
    "a)"
   ]
  },
  {
   "cell_type": "code",
   "execution_count": 6,
   "id": "ad20ca74",
   "metadata": {},
   "outputs": [
    {
     "name": "stdout",
     "output_type": "stream",
     "text": [
      "A\n",
      "BB\n",
      "CCC\n",
      "DDDD\n",
      "EEEEE\n"
     ]
    }
   ],
   "source": [
    "for i in range(5):\n",
    "    for j in range(i+1):\n",
    "        print(chr(65+i),end=\"\")\n",
    "    print()"
   ]
  },
  {
   "cell_type": "markdown",
   "id": "12b284ce",
   "metadata": {},
   "source": [
    "b)"
   ]
  },
  {
   "cell_type": "code",
   "execution_count": 7,
   "id": "cbab776c",
   "metadata": {},
   "outputs": [
    {
     "name": "stdout",
     "output_type": "stream",
     "text": [
      "A\n",
      "AB\n",
      "ABC\n",
      "ABCD\n",
      "ABCDE\n"
     ]
    }
   ],
   "source": [
    "for i in range(5):\n",
    "    for j in range(i+1):\n",
    "        print(chr(65+j),end=\"\")\n",
    "    print()"
   ]
  },
  {
   "cell_type": "code",
   "execution_count": 14,
   "id": "b6db6403",
   "metadata": {},
   "outputs": [
    {
     "name": "stdout",
     "output_type": "stream",
     "text": [
      "ABCDE\n",
      "ABCD\n",
      "ABC\n",
      "AB\n",
      "A\n"
     ]
    }
   ],
   "source": [
    "for i in range(5,0,-1):\n",
    "    for j in range(i):\n",
    "        print(chr(65+j),end=\"\")\n",
    "    print()"
   ]
  },
  {
   "cell_type": "code",
   "execution_count": 1,
   "id": "c9ab1d0d",
   "metadata": {},
   "outputs": [
    {
     "name": "stdout",
     "output_type": "stream",
     "text": [
      "FFFFF\n",
      "EEEE\n",
      "DDD\n",
      "CC\n",
      "B\n"
     ]
    }
   ],
   "source": [
    "for i in range(5, 0, -1):\n",
    "    for j in range(i):\n",
    "        print(chr(65+i), end=\"\")\n",
    "    print()"
   ]
  },
  {
   "cell_type": "markdown",
   "id": "56b98b4c",
   "metadata": {},
   "source": [
    "19.Write a pogram to print fallowing partten:"
   ]
  },
  {
   "cell_type": "code",
   "execution_count": 4,
   "id": "a90c7611",
   "metadata": {},
   "outputs": [
    {
     "name": "stdout",
     "output_type": "stream",
     "text": [
      "*\n",
      "**\n",
      "***\n",
      "****\n",
      "*****\n"
     ]
    }
   ],
   "source": [
    "for i in range(5):\n",
    "    for j in range(i+1):\n",
    "        print('*',end=\"\")\n",
    "    print()"
   ]
  },
  {
   "cell_type": "code",
   "execution_count": 7,
   "id": "ad785a60",
   "metadata": {},
   "outputs": [
    {
     "name": "stdout",
     "output_type": "stream",
     "text": [
      "*****\n",
      "*****\n",
      "*****\n",
      "*****\n",
      "*****\n"
     ]
    }
   ],
   "source": [
    "for i in range(5):\n",
    "    print('*****')\n",
    " "
   ]
  },
  {
   "cell_type": "code",
   "execution_count": 8,
   "id": "d8b20ef0",
   "metadata": {},
   "outputs": [
    {
     "name": "stdout",
     "output_type": "stream",
     "text": [
      "*****\n",
      "****\n",
      "***\n",
      "**\n",
      "*\n"
     ]
    }
   ],
   "source": [
    "for i in range(5, 0, -1):\n",
    "    for j in range(i):\n",
    "        print('*', end=\"\")\n",
    "    print()"
   ]
  },
  {
   "cell_type": "code",
   "execution_count": 11,
   "id": "5ce1499e",
   "metadata": {},
   "outputs": [
    {
     "name": "stdout",
     "output_type": "stream",
     "text": [
      "*\n",
      "**\n",
      "***\n",
      "****\n",
      "*****\n"
     ]
    }
   ],
   "source": [
    "for i in range(1,6):\n",
    "    print('*'*i)\n",
    "   "
   ]
  },
  {
   "cell_type": "markdown",
   "id": "03dd5f23",
   "metadata": {},
   "source": [
    "                                       # FUNCTION"
   ]
  },
  {
   "cell_type": "markdown",
   "id": "226ea694",
   "metadata": {},
   "source": [
    "1.Write a function to find maximum of three numbers?"
   ]
  },
  {
   "cell_type": "code",
   "execution_count": 17,
   "id": "b6526e5a",
   "metadata": {},
   "outputs": [
    {
     "name": "stdout",
     "output_type": "stream",
     "text": [
      "8\n"
     ]
    }
   ],
   "source": [
    "def max(a,b,c):\n",
    "    max_num=a\n",
    "    if b>max_num:\n",
    "        max_num=b\n",
    "    if c>max_num:\n",
    "        max_num=c\n",
    "    return max_num\n",
    "print(max(6,4,8))"
   ]
  },
  {
   "cell_type": "markdown",
   "id": "abb76a45",
   "metadata": {},
   "source": [
    "2.Write a function to sum all the number in a list?"
   ]
  },
  {
   "cell_type": "code",
   "execution_count": 20,
   "id": "ab49b8a4",
   "metadata": {},
   "outputs": [
    {
     "name": "stdout",
     "output_type": "stream",
     "text": [
      "15\n"
     ]
    }
   ],
   "source": [
    "def sum(num):\n",
    "    total = 0\n",
    "    for number in num:\n",
    "        total += number\n",
    "    return total\n",
    "numbers1 = [1, 2, 3, 4, 5]\n",
    "\n",
    "print(sum(numbers1))   \n"
   ]
  },
  {
   "cell_type": "markdown",
   "id": "e54b173a",
   "metadata": {},
   "source": [
    "3.Write a function to multiply all the number in a list?"
   ]
  },
  {
   "cell_type": "code",
   "execution_count": 21,
   "id": "00b42aaf",
   "metadata": {},
   "outputs": [
    {
     "name": "stdout",
     "output_type": "stream",
     "text": [
      "120\n"
     ]
    }
   ],
   "source": [
    "def multiply(num):\n",
    "    result = 1\n",
    "    for number in num:\n",
    "        result *= number\n",
    "    return result\n",
    "numbers1 = [1, 2, 3, 4, 5]\n",
    "\n",
    "print(multiply(numbers1))   \n"
   ]
  },
  {
   "cell_type": "markdown",
   "id": "2babb13c",
   "metadata": {},
   "source": [
    "4.Write a function to reverse string?"
   ]
  },
  {
   "cell_type": "code",
   "execution_count": 22,
   "id": "8a5073a4",
   "metadata": {},
   "outputs": [
    {
     "name": "stdout",
     "output_type": "stream",
     "text": [
      "aidni\n"
     ]
    }
   ],
   "source": [
    "def reverse(string):\n",
    "    return string[::-1]\n",
    "string = \"india\"\n",
    "print(reverse(string))"
   ]
  },
  {
   "cell_type": "markdown",
   "id": "b23886a8",
   "metadata": {},
   "source": [
    "5.Write a function to calculate the factorial of numbers?"
   ]
  },
  {
   "cell_type": "code",
   "execution_count": 23,
   "id": "9eda0e6a",
   "metadata": {},
   "outputs": [
    {
     "name": "stdout",
     "output_type": "stream",
     "text": [
      "120\n"
     ]
    }
   ],
   "source": [
    "def factorial(n):\n",
    "    if n == 0:\n",
    "        return 1\n",
    "    else:\n",
    "        return n * factorial(n-1)\n",
    "print(factorial(5))"
   ]
  },
  {
   "cell_type": "markdown",
   "id": "f854586d",
   "metadata": {},
   "source": [
    "6.Write a function that accepts a string and calculate the numbers of upper case letter and lower case letters?"
   ]
  },
  {
   "cell_type": "code",
   "execution_count": 24,
   "id": "0978d45a",
   "metadata": {},
   "outputs": [
    {
     "name": "stdout",
     "output_type": "stream",
     "text": [
      "(2, 5)\n"
     ]
    }
   ],
   "source": [
    "def count_upper_lower(string):\n",
    "    upper_count = 0\n",
    "    lower_count = 0\n",
    "    for char in string:\n",
    "        if char.isupper():\n",
    "            upper_count += 1\n",
    "        elif char.islower():\n",
    "            lower_count += 1\n",
    "    return (upper_count, lower_count)\n",
    "string = \"eXaMple\"\n",
    "print(count_upper_lower(string)) "
   ]
  },
  {
   "cell_type": "markdown",
   "id": "c53120fa",
   "metadata": {},
   "source": [
    "7.Write a function that takes a list and returns a new list with unique element of the first list?"
   ]
  },
  {
   "cell_type": "code",
   "execution_count": 1,
   "id": "65fbd9d0",
   "metadata": {},
   "outputs": [
    {
     "name": "stdout",
     "output_type": "stream",
     "text": [
      "[1, 2, 3, 4, 5, 6, 7]\n"
     ]
    }
   ],
   "source": [
    "def get_unique_list(input_list):\n",
    "    unique_set = set(input_list)\n",
    "    unique_list = list(unique_set)\n",
    "    return unique_list\n",
    "list1 = [;apple, 2, 3, 4, 4, 5, 5, 5, 6, 6, 7]\n",
    "print(get_unique_list(list1)) "
   ]
  },
  {
   "cell_type": "code",
   "execution_count": null,
   "id": "769854a1",
   "metadata": {},
   "outputs": [],
   "source": []
  }
 ],
 "metadata": {
  "kernelspec": {
   "display_name": "Python 3 (ipykernel)",
   "language": "python",
   "name": "python3"
  },
  "language_info": {
   "codemirror_mode": {
    "name": "ipython",
    "version": 3
   },
   "file_extension": ".py",
   "mimetype": "text/x-python",
   "name": "python",
   "nbconvert_exporter": "python",
   "pygments_lexer": "ipython3",
   "version": "3.9.13"
  }
 },
 "nbformat": 4,
 "nbformat_minor": 5
}
