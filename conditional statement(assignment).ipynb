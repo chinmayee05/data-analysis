{
 "cells": [
  {
   "cell_type": "markdown",
   "id": "f6784d2f",
   "metadata": {},
   "source": [
    "1.Write a program to check whether a given number is even or odd?"
   ]
  },
  {
   "cell_type": "code",
   "execution_count": 1,
   "id": "5022fd06",
   "metadata": {},
   "outputs": [
    {
     "name": "stdout",
     "output_type": "stream",
     "text": [
      "Enter a number: 23\n",
      "23 is Odd\n"
     ]
    }
   ],
   "source": [
    "num = int(input(\"Enter a number: \"))\n",
    "if (num % 2) == 0:\n",
    "   print(\"{0} is Even\".format(num))\n",
    "else:\n",
    "   print(\"{0} is Odd\".format(num))"
   ]
  },
  {
   "cell_type": "markdown",
   "id": "0f79d49e",
   "metadata": {},
   "source": [
    "2.Write a program to check whether an alphabet is a vowel or consonant?"
   ]
  },
  {
   "cell_type": "code",
   "execution_count": 2,
   "id": "0a602bbe",
   "metadata": {},
   "outputs": [
    {
     "name": "stdout",
     "output_type": "stream",
     "text": [
      "enter a letter water\n",
      "Consonant\n"
     ]
    }
   ],
   "source": [
    "x=input('enter a letter ')\n",
    "if (x == 'a' or x == 'e' or\n",
    "        x == 'i' or x == 'o' or x == 'u' or x=='A' or x=='E' or x=='I' or x=='O' or x=='U'):\n",
    "        print(\"Vowel\")\n",
    "else:\n",
    "        print(\"Consonant\")"
   ]
  },
  {
   "cell_type": "markdown",
   "id": "6fc0c614",
   "metadata": {},
   "source": [
    "3.Write a program to check whether a person is eligible to vote or not eligible?"
   ]
  },
  {
   "cell_type": "code",
   "execution_count": 3,
   "id": "5a42b687",
   "metadata": {},
   "outputs": [
    {
     "name": "stdout",
     "output_type": "stream",
     "text": [
      "Enter the age 22\n",
      "eligible\n"
     ]
    }
   ],
   "source": [
    "x= int(input(\"Enter the age \"))\n",
    "if (x>=18):\n",
    "   print(\"eligible\")\n",
    "else:\n",
    "   print(\"not eligible\")"
   ]
  },
  {
   "cell_type": "markdown",
   "id": "68726303",
   "metadata": {},
   "source": [
    "4.Write a program to check whether a given number is positive,negative or zero?"
   ]
  },
  {
   "cell_type": "code",
   "execution_count": 2,
   "id": "4fa8a03f",
   "metadata": {},
   "outputs": [
    {
     "name": "stdout",
     "output_type": "stream",
     "text": [
      "enter a number: 34\n",
      "positive number\n"
     ]
    }
   ],
   "source": [
    "n = int(input(\"enter a number: \"))\n",
    "if n>0:\n",
    "      print(\"positive number\")\n",
    "elif n<0:\n",
    "      print(\"Negative number\")\n",
    "else:\n",
    "    print(\"it is zero\")"
   ]
  },
  {
   "cell_type": "markdown",
   "id": "af8f7733",
   "metadata": {},
   "source": [
    "5.Write a program to check whether a given year is leap year or not?"
   ]
  },
  {
   "cell_type": "code",
   "execution_count": 3,
   "id": "e0e1bbf7",
   "metadata": {},
   "outputs": [
    {
     "name": "stdout",
     "output_type": "stream",
     "text": [
      "Enter year : 2023\n",
      "2023 is not a leap year.\n"
     ]
    }
   ],
   "source": [
    "year = int(input('Enter year : '))\n",
    "\n",
    "if year%4 == 0:\n",
    "    print(year, \"is a leap year.\")\n",
    "else :\n",
    "    print(year, \"is not a leap year.\")"
   ]
  },
  {
   "cell_type": "markdown",
   "id": "a35ffd4c",
   "metadata": {},
   "source": [
    "6.Write a program to check a triangle is equilateral,isosceles or scalene?"
   ]
  },
  {
   "cell_type": "code",
   "execution_count": 5,
   "id": "cb5ac790",
   "metadata": {},
   "outputs": [
    {
     "name": "stdout",
     "output_type": "stream",
     "text": [
      "Input lengths of the triangle sides: \n",
      "x: 10\n",
      "y: 12\n",
      "z: 10\n",
      "isosceles triangle\n"
     ]
    }
   ],
   "source": [
    "print(\"Input lengths of the triangle sides: \")\n",
    "x = int(input(\"x: \"))\n",
    "y = int(input(\"y: \"))\n",
    "z = int(input(\"z: \"))\n",
    "\n",
    "if x == y == z:\n",
    "    print(\"Equilateral triangle\")\n",
    "elif x==y or y==z or x==z:\n",
    "    print(\"isosceles triangle\")\n",
    "else:\n",
    "    print(\"Scalene triangle\")"
   ]
  },
  {
   "cell_type": "markdown",
   "id": "610072a9",
   "metadata": {},
   "source": [
    "7.Write a program to check a whether after selling a product its profit or loss?"
   ]
  },
  {
   "cell_type": "code",
   "execution_count": 6,
   "id": "e63ac0a5",
   "metadata": {},
   "outputs": [
    {
     "name": "stdout",
     "output_type": "stream",
     "text": [
      "enter the cost price of the product1600\n",
      "enter the selling price of the product2000\n",
      "profit\n"
     ]
    }
   ],
   "source": [
    "cp=float(input(\"enter the cost price of the product\"))\n",
    "sp=float(input(\"enter the selling price of the product\"))\n",
    "if sp>cp:\n",
    "    print(\"profit\")\n",
    "elif sp<cp:\n",
    "    print(\"loss\")\n",
    "else:\n",
    "    print(\"no profit no loss\")"
   ]
  },
  {
   "cell_type": "markdown",
   "id": "1962d76c",
   "metadata": {},
   "source": [
    "8.Write a program to enter two numbers and print the greatest number?"
   ]
  },
  {
   "cell_type": "code",
   "execution_count": 23,
   "id": "d17e8d5a",
   "metadata": {},
   "outputs": [
    {
     "name": "stdout",
     "output_type": "stream",
     "text": [
      "enter a number 22\n",
      "enter a number45\n",
      "45 is greater\n"
     ]
    }
   ],
   "source": [
    "num1=int(input(\"enter a number \")) \n",
    "num2=int(input(\"enter a number\"))\n",
    "if num1>num2:\n",
    "    print(\"{0} is greater\".format(num1))\n",
    "else:\n",
    "    print(\"{0} is greater\".format(num2)) "
   ]
  },
  {
   "cell_type": "markdown",
   "id": "f05082f1",
   "metadata": {},
   "source": [
    "9.Write a program to enter two numbers and print the greatest number?"
   ]
  },
  {
   "cell_type": "code",
   "execution_count": 24,
   "id": "6594fbf3",
   "metadata": {},
   "outputs": [
    {
     "name": "stdout",
     "output_type": "stream",
     "text": [
      "enter a number 22\n",
      "enter a number34\n",
      "22 is smaller\n"
     ]
    }
   ],
   "source": [
    "num1=int(input(\"enter a number \")) \n",
    "num2=int(input(\"enter a number\"))\n",
    "if num1<num2:\n",
    "    print(\"{0} is smaller\".format(num1))\n",
    "else:\n",
    "    print(\"{0} is smaller\".format(num2)) "
   ]
  },
  {
   "cell_type": "markdown",
   "id": "040f824b",
   "metadata": {},
   "source": [
    "10.Write a program to enter three numbers and print the greatest number?"
   ]
  },
  {
   "cell_type": "code",
   "execution_count": 1,
   "id": "3339d604",
   "metadata": {},
   "outputs": [
    {
     "name": "stdout",
     "output_type": "stream",
     "text": [
      "Enter first number: 23\n",
      "Enter second number: 45\n",
      "Enter third number: 12\n",
      "The largest number is 45\n"
     ]
    }
   ],
   "source": [
    "num1 = int(input(\"Enter first number: \"))\n",
    "num2 = int(input(\"Enter second number: \"))\n",
    "num3 = int(input(\"Enter third number: \"))\n",
    "if (num1 >= num2) and (num1 >= num3):\n",
    "   largest = num1\n",
    "elif (num2 >= num1) and (num2 >= num3):\n",
    "   largest = num2\n",
    "else:\n",
    "   largest = num3\n",
    "print(\"The largest number is\", largest)"
   ]
  },
  {
   "cell_type": "markdown",
   "id": "c4233125",
   "metadata": {},
   "source": [
    "11.Write a program to enter three numbers and print the smallest number?"
   ]
  },
  {
   "cell_type": "code",
   "execution_count": 3,
   "id": "f5236a7d",
   "metadata": {},
   "outputs": [
    {
     "name": "stdout",
     "output_type": "stream",
     "text": [
      "Enter first number: 12\n",
      "Enter second number: 20\n",
      "Enter third number: 23\n",
      "The smallest number is 12\n"
     ]
    }
   ],
   "source": [
    "num1 = int(input(\"Enter first number: \"))\n",
    "num2 = int(input(\"Enter second number: \"))\n",
    "num3 = int(input(\"Enter third number: \"))\n",
    "if (num1 <= num2) and (num1 <= num3):\n",
    "   smallest = num1\n",
    "elif (num2 <= num1) and (num2 <= num3):\n",
    "   smallest = num2\n",
    "else:\n",
    "   smallest = num3\n",
    "print(\"The smallest number is\", smallest)"
   ]
  },
  {
   "cell_type": "markdown",
   "id": "d85e5903",
   "metadata": {},
   "source": [
    "12.Write a program to calculate the roots of quadratic equation?"
   ]
  },
  {
   "cell_type": "code",
   "execution_count": 1,
   "id": "14b9d631",
   "metadata": {},
   "outputs": [
    {
     "name": "stdout",
     "output_type": "stream",
     "text": [
      "a: 23\n",
      "b: 12\n",
      "c: 34\n",
      "No roots, discriminant < 0.\n"
     ]
    }
   ],
   "source": [
    "from math import sqrt\n",
    "\n",
    "a = float(input(\"a: \"))\n",
    "b = float(input(\"b: \"))\n",
    "c = float(input(\"c: \"))\n",
    "\n",
    "#calculate the discriminant\n",
    "r = b**2 - 4*a*c\n",
    "#check if the discriminant is positive ,zero,or negative\n",
    "if r > 0:\n",
    "    num_roots = 2\n",
    "    x1 = (((-b) + sqrt(r))/(2*a))     \n",
    "    x2 = (((-b) - sqrt(r))/(2*a))\n",
    "    print(\"There are 2 roots: %f and %f\" % (x1, x2))\n",
    "elif r == 0:\n",
    "    num_roots = 1\n",
    "    x = (-b) / 2*a\n",
    "    print(\"There is one root: \", x)\n",
    "else:\n",
    "    num_roots = 0\n",
    "    print(\"No roots, discriminant < 0.\")\n"
   ]
  },
  {
   "cell_type": "markdown",
   "id": "39b463db",
   "metadata": {},
   "source": [
    "13.Write a program to enter a number between (1-7) and print the respective day of the week?"
   ]
  },
  {
   "cell_type": "code",
   "execution_count": 3,
   "id": "2b52f2ef",
   "metadata": {},
   "outputs": [
    {
     "name": "stdout",
     "output_type": "stream",
     "text": [
      "enter the number5\n",
      "Thursday\n"
     ]
    }
   ],
   "source": [
    "x=int(input(\"enter the number\"))\n",
    "if(x==1):\n",
    "    print(\"Sunday\")\n",
    "elif(x==2):\n",
    "    print(\"Monday\")\n",
    "elif(x==3):\n",
    "    print(\"Tuesday\")\n",
    "elif(x==4):\n",
    "    print(\"Wednesday\")\n",
    "elif(x==5):\n",
    "    print(\"Thursday\")\n",
    "elif(x==6):\n",
    "    print(\"Friday\")\n",
    "else:\n",
    "    print(\"Saturday\")"
   ]
  },
  {
   "cell_type": "code",
   "execution_count": null,
   "id": "4546b45b",
   "metadata": {},
   "outputs": [],
   "source": []
  }
 ],
 "metadata": {
  "kernelspec": {
   "display_name": "Python 3 (ipykernel)",
   "language": "python",
   "name": "python3"
  },
  "language_info": {
   "codemirror_mode": {
    "name": "ipython",
    "version": 3
   },
   "file_extension": ".py",
   "mimetype": "text/x-python",
   "name": "python",
   "nbconvert_exporter": "python",
   "pygments_lexer": "ipython3",
   "version": "3.9.13"
  }
 },
 "nbformat": 4,
 "nbformat_minor": 5
}
